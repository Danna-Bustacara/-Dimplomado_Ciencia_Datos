{
  "nbformat": 4,
  "nbformat_minor": 0,
  "metadata": {
    "colab": {
      "provenance": [],
      "authorship_tag": "ABX9TyP/FS/q9nIyiOqB0JCKu2qM",
      "include_colab_link": true
    },
    "kernelspec": {
      "name": "python3",
      "display_name": "Python 3"
    },
    "language_info": {
      "name": "python"
    }
  },
  "cells": [
    {
      "cell_type": "markdown",
      "metadata": {
        "id": "view-in-github",
        "colab_type": "text"
      },
      "source": [
        "<a href=\"https://colab.research.google.com/github/Danna-Bustacara/-Dimplomado_Ciencia_Datos/blob/main/Tarea3_Clase2.ipynb\" target=\"_parent\"><img src=\"https://colab.research.google.com/assets/colab-badge.svg\" alt=\"Open In Colab\"/></a>"
      ]
    },
    {
      "cell_type": "markdown",
      "source": [
        "**Escriba una clase con las siguientes funcionalidades:**\n",
        "* Al instanciar un objeto, lee un conjunto de datos numéricos. Por ejemplo puede usar el mismo conjunto de datos iris.csv. Instancie los datos en un dataframe de Pandas\n",
        "* Implemente un método que calcule las estadísticas descriptivas básicas de cada una de las variables.\n",
        "* Implemente un método que entregue los nombre de las variables disponibles.\n",
        "* Implemente un método que reciba el nombre de una variable disponible dentro del objeto ( en el  dataframe) y regrese: sus estadísticas básicas:  media, mediana, desviación, percentiles q25, q50, q75 y dibuje un histograma de la distribución de la variable."
      ],
      "metadata": {
        "id": "-IL2bqEhIcQ2"
      }
    },
    {
      "cell_type": "code",
      "source": [
        "import pandas as pd\n",
        "import matplotlib.pyplot as plt\n",
        "import seaborn as sns\n"
      ],
      "metadata": {
        "id": "eRyjzXjUK92m"
      },
      "execution_count": 32,
      "outputs": []
    },
    {
      "cell_type": "code",
      "source": [
        "class DataAnalyzer:\n",
        "    \n",
        "    def __init__(self, file_path):\n",
        "        self.df = pd.read_csv(file_path)\n",
        "    \n",
        "    def get_basic_stats(self):\n",
        "        return self.df.describe().rename(\n",
        "            index={'count': 'Número', 'mean': 'Media','std': 'Dv. Estándar','min': 'Min','max': 'Max'})\n",
        "    \n",
        "    def get_variable_names(self):\n",
        "        return list(self.df.columns)\n",
        "    \n",
        "    def analyze_variable(self, var_name):\n",
        "        if var_name not in self.df.columns:\n",
        "            raise ValueError(f\"{var_name} no es una variable disponible.\")\n",
        "        var_data = self.df[var_name]\n",
        "        stats = var_data.describe().rename(\n",
        "            index={'count': 'Número', 'mean': 'Media','std': 'Dv. Estándar','min': 'Min','max': 'Max'})\n",
        "        hist = var_data.hist(color='g')\n",
        "        plt.title(var_name)\n",
        "        plt.show()\n",
        "        return stats\n"
      ],
      "metadata": {
        "id": "fTtS2w9DDUSN"
      },
      "execution_count": 48,
      "outputs": []
    },
    {
      "cell_type": "code",
      "source": [
        "data_analyzer = DataAnalyzer('/iris.csv')\n",
        "\n",
        "print(data_analyzer.get_basic_stats())\n",
        "print(data_analyzer.get_variable_names())"
      ],
      "metadata": {
        "id": "I_zyBHwHIpHe",
        "colab": {
          "base_uri": "https://localhost:8080/"
        },
        "outputId": "b7a36c1d-c20f-4ea1-e644-562a496da1a5"
      },
      "execution_count": 49,
      "outputs": [
        {
          "output_type": "stream",
          "name": "stdout",
          "text": [
            "              sepal.length  sepal.width  petal.length  petal.width\n",
            "Número          150.000000   150.000000    150.000000   150.000000\n",
            "Media             5.843333     3.057333      3.758000     1.199333\n",
            "Dv. Estándar      0.828066     0.435866      1.765298     0.762238\n",
            "Min               4.300000     2.000000      1.000000     0.100000\n",
            "25%               5.100000     2.800000      1.600000     0.300000\n",
            "50%               5.800000     3.000000      4.350000     1.300000\n",
            "75%               6.400000     3.300000      5.100000     1.800000\n",
            "Max               7.900000     4.400000      6.900000     2.500000\n",
            "['sepal.length', 'sepal.width', 'petal.length', 'petal.width', 'variety']\n"
          ]
        }
      ]
    },
    {
      "cell_type": "code",
      "source": [
        "print(data_analyzer.analyze_variable('petal.length'))"
      ],
      "metadata": {
        "colab": {
          "base_uri": "https://localhost:8080/",
          "height": 618
        },
        "id": "-zzuobByLuFB",
        "outputId": "6281b984-0a23-49fb-8ab3-7cf314f55504"
      },
      "execution_count": 50,
      "outputs": [
        {
          "output_type": "display_data",
          "data": {
            "text/plain": [
              "<Figure size 640x480 with 1 Axes>"
            ],
            "image/png": "[encoded data removed]"
          },
          "metadata": {}
        },
        {
          "output_type": "stream",
          "name": "stdout",
          "text": [
            "Número          150.000000\n",
            "Media             3.758000\n",
            "Dv. Estándar      1.765298\n",
            "Min               1.000000\n",
            "25%               1.600000\n",
            "50%               4.350000\n",
            "75%               5.100000\n",
            "Max               6.900000\n",
            "Name: petal.length, dtype: float64\n"
          ]
        }
      ]
    },
    {
      "cell_type": "code",
      "source": [],
      "metadata": {
        "id": "Wl2k5dtvNyMV"
      },
      "execution_count": null,
      "outputs": []
    }
  ]
}