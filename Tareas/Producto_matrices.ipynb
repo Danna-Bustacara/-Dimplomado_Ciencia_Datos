{
  "cells": [
    {
      "cell_type": "markdown",
      "metadata": {
        "id": "view-in-github",
        "colab_type": "text"
      },
      "source": [
        "<a href=\"https://colab.research.google.com/github/Danna-Bustacara/-Dimplomado_Ciencia_Datos/blob/main/Producto_de_matrices.ipynb\" target=\"_parent\"><img src=\"https://colab.research.google.com/assets/colab-badge.svg\" alt=\"Open In Colab\"/></a>"
      ]
    },
    {
      "cell_type": "markdown",
      "metadata": {
        "id": "ndSxN-KsQcnx"
      },
      "source": [
        "<center><h1><font color=\"blue\">Producto de matrices</font></h1></center>"
      ]
    },
    {
      "cell_type": "markdown",
      "metadata": {
        "id": "W52KKzwTQcny"
      },
      "source": [
        "<center><img src=\"https://upload.wikimedia.org/wikipedia/commons/8/81/Artificial_Intelligence_%26_AI_%26_Machine_Learning_-_30212411048.jpg\"\n",
        "     width=\"400\"></center>"
      ]
    },
    {
      "cell_type": "markdown",
      "source": [
        "<h2>Autora:</font></h2>"
      ],
      "metadata": {
        "id": "jrCGTarMrx9T"
      }
    },
    {
      "cell_type": "markdown",
      "source": [
        "<center><img src=\"https://drive.google.com/uc?id=1MmO4FkX0TKTY5q3TPH2SKmUO2wYD_nWQ\" width=\"400\"></center>\n",
        "\n"
      ],
      "metadata": {
        "id": "ixx4-YMdo1XH"
      }
    },
    {
      "cell_type": "markdown",
      "metadata": {
        "id": "pwEbvLtZQcn0"
      },
      "source": [
        "Mi nombre es Danna Gabriela Bustacara Rodríguez, y en este momento estoy realizando el pregrado en Estadistíca de la Universidad Nacional de Colombia sede Bogotá. "
      ]
    },
    {
      "cell_type": "markdown",
      "metadata": {
        "id": "IsY-OOjgQcn0"
      },
      "source": [
        "<h3><font color=\"black\">Definición:</font></h3> \n",
        "<p>Dadas dos matrices <strong><em>A</em></strong> y <strong><em>B</em></strong> de dimensiones <strong><em>m</em></strong> $\\times$\t <strong><em>n</em></strong> y <strong><em>n</em></strong> $\\times$\t <strong><em>p</em></strong> respectivamente, se define su producto <strong><em>A</em></strong>$\\cdot$<strong><em>B</em></strong> como la matriz de dimensión <strong><em>m</em></strong> $\\times$\t <strong><em>p</em></strong> tal que el elemento de la posición fila <strong><em>i</em></strong> y columna <strong><em>j</em></strong> es el resultado del producto de los vectores fila <strong><em>i</em></strong> de <strong><em>A</em></strong> y columna <strong><em>j</em></strong> de <strong><em>B</em></strong>.</p>\n",
        "<p>Así, definamos los elementos de la matriz resutante del producto como $m _{i,j}$, donde</p>\n",
        "<p><center>$$m_{i,j}:= \\sum_{k=1}^{n}a_{i,k}\\cdot b_{k,j}$$  </center></p>\n"
      ]
    },
    {
      "cell_type": "markdown",
      "metadata": {
        "id": "D0uy08WKQcn1"
      },
      "source": [
        "<font color=\"black\"> <strong>Condición: </strong></font> El producto de dos matrices estará definido si el número de columnas en la primera matriz es igual al número de renglones en la segunda matriz.<br><br>\n",
        "Si el producto está definido, la matriz resultante tendrá el mismo número de renglones que la primera matriz y el mismo número de columnas que la segunda matriz."
      ]
    },
    {
      "cell_type": "markdown",
      "metadata": {
        "id": "YYSNG02FQcn2"
      },
      "source": [
        "<h3><font color=\"black\">Propiedades:</font></h3>"
      ]
    },
    {
      "cell_type": "markdown",
      "metadata": {
        "id": "GnRj6p_lQcn2"
      },
      "source": [
        "- <font color=\"black\"> <strong>Asociativo</strong></font>: Si el producto está definido, entonces se cumple la propiedad asociativa en el producto de matrices\n",
        "$$(A\\cdot B)\\cdot C=A\\cdot (B\\cdot C)$$"
      ]
    },
    {
      "cell_type": "markdown",
      "metadata": {
        "id": "GlWcanJrQcn3"
      },
      "source": [
        "- <font color=\"black\"> <strong>Distributivo</strong></font>: Si el producto y la suma de las matrices está definido, entonces se cumple la propiedad asociativa en el producto de matrices\n",
        "$$A\\cdot (B+C)=A\\cdot B+ A\\cdot C$$"
      ]
    },
    {
      "cell_type": "markdown",
      "metadata": {
        "id": "0svHsgEkQcn3"
      },
      "source": [
        "- <font color=\"black\"> <strong>Elemento neutro</strong> </font>: El producto tiene elemento neutro <strong> $I_n$</strong>, que es la identidad y es el elemento neutro por derecha e izquierda cuando la matriz es cuadrada. Si la matriz <strong>NO</strong> es cuadrada, el neutro por derecha e izquierda tiene distinta dimensión.\n",
        "<p>Sea <strong> A </strong> de dimensión <strong><em>n</em></strong>$\\times$<strong><em>p</em></strong>, entonces:</p>\n",
        "$$ A \\cdot I_p= I_n\\cdot A$$"
      ]
    },
    {
      "cell_type": "markdown",
      "metadata": {
        "id": "gcBHmGWIQcn3"
      },
      "source": [
        "<h3><font color=\"black\">Ejemplos:</font></h3>\n",
        "<ul>\n",
        "    <li> Producto de dos matrices cuadradas de dimensión $2$:       \n",
        "   $$\\left(\\begin{array}{cc}\n",
        "       0 & 2\\\\\n",
        "       1 & 4 \n",
        "     \\end{array}\\right) \n",
        "     \\cdot \n",
        "     \\left(\\begin{array}{cc}\n",
        "      1 & 3 \\\\ \n",
        "      5 & 0\n",
        "     \\end{array}\\right) =\n",
        "     \\left(\\begin{array}{cc}\n",
        "      0\\cdot1+2\\cdot5& 0\\cdot3+2\\cdot0\\\\ \n",
        "      1\\cdot 1+4\\cdot5& 1\\cdot3+4\\cdot0\n",
        "     \\end{array}\\right)=\n",
        "     \\left(\\begin{array}{cc}\n",
        "       10 & 0 \\\\\n",
        "       21 & 3\n",
        "      \\end{array}\\right)$$ <br></li>\n",
        "    \n",
        "<li> Producto de dos matrices rectangulares de dimensiones $3 \\times 2$ y $2\\times 3$:\n",
        "   \n",
        "    \n",
        " $$\n",
        "  \\left(\\begin{array}{cc}\n",
        "     1 & 2\\\\\n",
        "     3 & 4\\\\\n",
        "     5 & 5\n",
        "  \\end{array}\\right) \\cdot \n",
        "  \\left(\\begin{array}{ccc}\n",
        "     1 & 2 &3\\\\\n",
        "     4 &5 & 6\n",
        "  \\end{array}\\right)=\n",
        "  \\left(\\begin{array}{ccc}\n",
        "     1\\cdot1+2\\cdot4 & 1\\cdot2+2\\cdot5 & 1\\cdot3+2\\cdot6\\\\\n",
        "     3\\cdot1+4\\cdot4 & 3\\cdot2+3\\cdot5 & 3\\cdot3+4\\cdot6\\\\\n",
        "     5\\cdot1+5\\cdot4 & 5\\cdot2+5\\cdot5 & 5\\cdot3+5\\cdot6\n",
        "  \\end{array}\\right)=\n",
        "  \\left(\\begin{array}{ccc}\n",
        "     9 & 12 &15 \\\\\n",
        "     19 & 21 & 33\\\\\n",
        "     25 & 35 & 45\n",
        "  \\end{array}\\right)$$\n",
        "   </li>\n",
        "</ul>\n"
      ]
    },
    {
      "cell_type": "markdown",
      "metadata": {
        "id": "bH2rCQdPQcn4"
      },
      "source": [
        "<h3><font color=\"black\">Referencias:</font></h3>"
      ]
    },
    {
      "cell_type": "markdown",
      "metadata": {
        "id": "skHz7TKHQcn4"
      },
      "source": [
        "- <a href=\"https://www.matesfacil.com/matrices/resueltos-matrices-producto.html\" target=\"_blank\">https://www.matesfacil.com/matrices/resueltos-matrices-producto.html</a>\n",
        "\n",
        "- <a href=\"https://blogs.ua.es/matesfacil/bachillerato/algebra-matricial/producto-de-matrices/\" target=\"_blank\">https://blogs.ua.es/matesfacil/bachillerato/algebra-matricial/producto-de-matrices/</a>\n",
        "\n",
        "- <a href=\"https://es.khanacademy.org/math/precalculus/x9e81a4f98389efdf:matrices/x9e81a4f98389efdf:multiplying-matrices-by-matrices/a/multiplying-matrices\" target=\"_blank\">https://es.khanacademy.org/math/precalculus/x9e81a4f98389efdf:matrices/x9e81a4f98389efdf:multiplying-matrices-by-matrices/a/multiplying-matrices</a>"
      ]
    },
    {
      "cell_type": "code",
      "execution_count": null,
      "metadata": {
        "id": "JJGQkT1DQcn5"
      },
      "outputs": [],
      "source": []
    }
  ],
  "metadata": {
    "kernelspec": {
      "display_name": "Python 3",
      "language": "python",
      "name": "python3"
    },
    "language_info": {
      "codemirror_mode": {
        "name": "ipython",
        "version": 3
      },
      "file_extension": ".py",
      "mimetype": "text/x-python",
      "name": "python",
      "nbconvert_exporter": "python",
      "pygments_lexer": "ipython3",
      "version": "3.7.6"
    },
    "colab": {
      "provenance": [],
      "include_colab_link": true
    }
  },
  "nbformat": 4,
  "nbformat_minor": 0
}
