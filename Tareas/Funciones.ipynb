{
  "cells": [
    {
      "cell_type": "markdown",
      "metadata": {
        "id": "view-in-github",
        "colab_type": "text"
      },
      "source": [
        "<a href=\"https://colab.research.google.com/github/Danna-Bustacara/-Dimplomado_Ciencia_Datos/blob/main/Funciones.ipynb\" target=\"_parent\"><img src=\"https://colab.research.google.com/assets/colab-badge.svg\" alt=\"Open In Colab\"/></a>"
      ]
    },
    {
      "cell_type": "markdown",
      "metadata": {
        "id": "KtcEb8ahb_sb"
      },
      "source": [
        "<center><h1><font color=\"blue\">Funciones</font></h1></center>"
      ]
    },
    {
      "cell_type": "markdown",
      "metadata": {
        "id": "5hcdpxw7b_sf"
      },
      "source": [
        "<center><img src=\"https://upload.wikimedia.org/wikipedia/commons/1/1f/Python_logo_01.svg\"\n",
        "     width=\"200\"> </center>"
      ]
    },
    {
      "cell_type": "markdown",
      "metadata": {
        "id": "VxflYyC8b_sg"
      },
      "source": [
        "- Escriba una función  que reciba la fecha de nacimiento de una persona y calcule la edad de la persona"
      ]
    },
    {
      "cell_type": "code",
      "execution_count": 27,
      "metadata": {
        "id": "pDMbbn3Kb_sh"
      },
      "outputs": [],
      "source": [
        "from datetime import date\n",
        "import numpy as np"
      ]
    },
    {
      "cell_type": "code",
      "execution_count": null,
      "metadata": {
        "id": "kOQuDiTtb_sj"
      },
      "outputs": [],
      "source": [
        "def calcular_edad(fecha_nacimiento):\n",
        "    \"\"\"\n",
        "    Calcula la edad de una persona a partir de su fecha de nacimiento.\n",
        "    \"\"\"\n",
        "    today = date.today()\n",
        "    edad = today.year - fecha_nacimiento.year -((today.month, today.day) < (fecha_nacimiento.month, fecha_nacimiento.day))\n",
        "    return edad"
      ]
    },
    {
      "cell_type": "markdown",
      "metadata": {
        "id": "M82tBh7_b_sk"
      },
      "source": [
        "<strong>Ejemplo:</strong> Calcule la edad de una persona que nació el 13 de Agosto del 2002"
      ]
    },
    {
      "cell_type": "code",
      "execution_count": null,
      "metadata": {
        "colab": {
          "base_uri": "https://localhost:8080/"
        },
        "id": "kBdVC94ab_sl",
        "outputId": "0aee3ca2-cd8e-4dbd-a865-57a04ae80ad0"
      },
      "outputs": [
        {
          "output_type": "execute_result",
          "data": {
            "text/plain": [
              "20"
            ]
          },
          "metadata": {},
          "execution_count": 3
        }
      ],
      "source": [
        "calcular_edad(date(2002,8,13))"
      ]
    },
    {
      "cell_type": "markdown",
      "metadata": {
        "id": "TcuOJuXbb_sn"
      },
      "source": [
        "- Crea una función EscribirCentrado, que reciba como parámetro un texto y lo escriba centrado en pantalla"
      ]
    },
    {
      "cell_type": "code",
      "execution_count": null,
      "metadata": {
        "id": "j6odeFb8b_sn"
      },
      "outputs": [],
      "source": [
        "import shutil\n",
        "\n",
        "def EscribirCentrado(texto):\n",
        "    # Obtiene el ancho de la terminal\n",
        "    ancho_terminal = shutil.get_terminal_size().columns\n",
        "    \n",
        "    # Calcula el número de espacios en blanco necesarios para centrar el texto\n",
        "    espacios = (ancho_terminal - len(texto)) // 2\n",
        "    \n",
        "    # Escribe el texto centrado en pantalla\n",
        "    print(\" \" * espacios + texto)\n"
      ]
    },
    {
      "cell_type": "markdown",
      "metadata": {
        "id": "lJyJq8QAb_so"
      },
      "source": [
        "<strong>Ejemplo:</strong>"
      ]
    },
    {
      "cell_type": "code",
      "execution_count": null,
      "metadata": {
        "colab": {
          "base_uri": "https://localhost:8080/"
        },
        "id": "T5RQvNAeb_so",
        "outputId": "9f37b9c3-7b7a-48a4-956d-33252651c66d"
      },
      "outputs": [
        {
          "output_type": "stream",
          "name": "stdout",
          "text": [
            "                          Escribir este texto centrado\n"
          ]
        }
      ],
      "source": [
        "EscribirCentrado(\"Escribir este texto centrado\")"
      ]
    },
    {
      "cell_type": "markdown",
      "metadata": {
        "id": "sGEklFMub_sp"
      },
      "source": [
        "- Construya una función decorada que reciba un texto y lo escriba marcado con Markdown en itálica y resaltada (bold)."
      ]
    },
    {
      "cell_type": "code",
      "execution_count": null,
      "metadata": {
        "id": "489o__u2b_sp"
      },
      "outputs": [],
      "source": [
        "def markdown(func):\n",
        "    def decorado(texto):\n",
        "        return f\"**_{func(texto)}_**\"\n",
        "    return decorado\n",
        "\n",
        "@markdown\n",
        "def texto_marcado(texto):\n",
        "    return texto"
      ]
    },
    {
      "cell_type": "markdown",
      "metadata": {
        "id": "WSAjE4mRb_sp"
      },
      "source": [
        "<strong>Ejemplo:</strong> Decore la palabra decorado"
      ]
    },
    {
      "cell_type": "code",
      "source": [
        "texto_marcado(\"Decorado\")"
      ],
      "metadata": {
        "colab": {
          "base_uri": "https://localhost:8080/",
          "height": 35
        },
        "id": "V9kPuIH_cjw2",
        "outputId": "0b8bb794-8173-42f9-9227-3cbde820408b"
      },
      "execution_count": null,
      "outputs": [
        {
          "output_type": "execute_result",
          "data": {
            "text/plain": [
              "'**_Decorado_**'"
            ],
            "application/vnd.google.colaboratory.intrinsic+json": {
              "type": "string"
            }
          },
          "metadata": {},
          "execution_count": 12
        }
      ]
    },
    {
      "cell_type": "markdown",
      "metadata": {
        "id": "1JY8ChIRb_sq"
      },
      "source": [
        "-  Crea un programa que pida dos número enteros al usuario y diga si alguno de ellos es múltiplo del otro. "
      ]
    },
    {
      "cell_type": "code",
      "execution_count": null,
      "metadata": {
        "colab": {
          "base_uri": "https://localhost:8080/"
        },
        "id": "UwDyZVB5b_sq",
        "outputId": "ff7228be-34c7-485b-9657-373c52b3b2a3"
      },
      "outputs": [
        {
          "output_type": "stream",
          "name": "stdout",
          "text": [
            "Ingrese su primer número entero: 2\n",
            "Ingrese su segundo número entero: 4\n",
            "4 es múltiplo de 2.\n"
          ]
        }
      ],
      "source": [
        "n1 = int(input(\"Ingrese su primer número entero: \"))\n",
        "n2 = int(input(\"Ingrese su segundo número entero: \"))\n",
        "\n",
        "if n1 % n2 == 0:\n",
        "    print(f\"{n1} es múltiplo de {n2}.\")\n",
        "elif n2 % n1 == 0:\n",
        "    print(f\"{n2} es múltiplo de {n1}.\")\n",
        "else:\n",
        "    print(\"Los números no son múltiplos entre sí.\")"
      ]
    },
    {
      "cell_type": "markdown",
      "metadata": {
        "id": "ktKEA-TZb_sq"
      },
      "source": [
        "<strong>Ejemplo:</strong> Evalúe si los números 7 y 12 son múltiplos"
      ]
    },
    {
      "cell_type": "markdown",
      "metadata": {
        "id": "Y4GTJOOkb_sq"
      },
      "source": [
        "- Crear una función que reciba una lista  de 24 valores de temperatura leída  hora en un día y que calcule la temperatura media. Cree una lista con 24 valores de temperatura de un día de Bogotá y pruebe su función. "
      ]
    },
    {
      "cell_type": "code",
      "execution_count": null,
      "metadata": {
        "id": "BvlFeH9mb_sr"
      },
      "outputs": [],
      "source": [
        "def temperatura_media(temperatura):\n",
        "    media_temperatura = sum(temperatura) / len(temperatura)\n",
        "    return media_temperatura"
      ]
    },
    {
      "cell_type": "markdown",
      "metadata": {
        "id": "vX5cDA26b_sr"
      },
      "source": [
        "<strong>Ejemplo:</strong>"
      ]
    },
    {
      "cell_type": "code",
      "source": [
        "num_aleatorios =list( np.random.randint(0, 26, size=24))\n",
        "temperatura_media(num_aleatorios)"
      ],
      "metadata": {
        "colab": {
          "base_uri": "https://localhost:8080/"
        },
        "id": "lUVyq2z_kg9h",
        "outputId": "e50bddba-895b-4f8f-bd9c-631204e1eb97"
      },
      "execution_count": null,
      "outputs": [
        {
          "output_type": "execute_result",
          "data": {
            "text/plain": [
              "11.708333333333334"
            ]
          },
          "metadata": {},
          "execution_count": 21
        }
      ]
    },
    {
      "cell_type": "markdown",
      "metadata": {
        "id": "_0px_Dexb_sr"
      },
      "source": [
        "- Crea un función “ConvertirEspaciado”, que reciba como parámetro un texto y devuelve una cadena con un espacio adicional tras cada letra. Por ejemplo, “Hola, tú” devolverá “H o l a , t ú “. "
      ]
    },
    {
      "cell_type": "code",
      "execution_count": null,
      "metadata": {
        "id": "GeyH4Exsb_ss"
      },
      "outputs": [],
      "source": [
        "def ConvertirEspaciado(texto):\n",
        "    espaciado = \" \"\n",
        "    texto_espaciado = espaciado.join(texto)\n",
        "    return texto_espaciado"
      ]
    },
    {
      "cell_type": "markdown",
      "metadata": {
        "id": "zRBr5xtNb_ss"
      },
      "source": [
        "<strong>Ejemplo:</strong>"
      ]
    },
    {
      "cell_type": "code",
      "source": [
        "ConvertirEspaciado(\"Hola tú\")"
      ],
      "metadata": {
        "colab": {
          "base_uri": "https://localhost:8080/",
          "height": 35
        },
        "id": "qsoJ0v0MlsGt",
        "outputId": "696c0a5d-a481-4281-f34b-5348fcbffa55"
      },
      "execution_count": null,
      "outputs": [
        {
          "output_type": "execute_result",
          "data": {
            "text/plain": [
              "'H o l a   t ú'"
            ],
            "application/vnd.google.colaboratory.intrinsic+json": {
              "type": "string"
            }
          },
          "metadata": {},
          "execution_count": 26
        }
      ]
    },
    {
      "cell_type": "markdown",
      "metadata": {
        "id": "R1gzh6KMb_ss"
      },
      "source": [
        "- Crea una función “calcularMaxMin” que recibe una arreglo con valores numérico y devuelve el valor máximo y el mínimo. "
      ]
    },
    {
      "cell_type": "code",
      "execution_count": null,
      "metadata": {
        "id": "aFEyqSCOb_ss"
      },
      "outputs": [],
      "source": [
        "def calcularMaxMin(arreglo):\n",
        "    maximo = max(arreglo)\n",
        "    minimo = min(arreglo)\n",
        "    return print(f\"{maximo} es el número máximo y {minimo} es el número minimo.\")"
      ]
    },
    {
      "cell_type": "markdown",
      "metadata": {
        "id": "tHlfx2oTb_ss"
      },
      "source": [
        "<strong>Ejemplo:</strong> Calcular el minimo y el maximo de los números desde 0 a 21"
      ]
    },
    {
      "cell_type": "code",
      "source": [
        "arreglo= np.arange(22)\n",
        "calcularMaxMin(arreglo)"
      ],
      "metadata": {
        "colab": {
          "base_uri": "https://localhost:8080/"
        },
        "id": "9m1FYgd8mLqy",
        "outputId": "e9ebf026-0d6d-4b4b-9998-93defccaef6b"
      },
      "execution_count": null,
      "outputs": [
        {
          "output_type": "stream",
          "name": "stdout",
          "text": [
            "21 es el número máximo y 0 es el número minimo.\n"
          ]
        }
      ]
    },
    {
      "cell_type": "markdown",
      "metadata": {
        "id": "q-gAqAClb_st"
      },
      "source": [
        "- Diseñar una función que calcule el área y el perímetro de una circunferencia. "
      ]
    },
    {
      "cell_type": "code",
      "execution_count": null,
      "metadata": {
        "id": "jahODh4Yb_st"
      },
      "outputs": [],
      "source": [
        "import math\n",
        "\n",
        "def Circunferencia(r):\n",
        "    area = math.pi * r ** 2\n",
        "    perimetro = 2 * math.pi * r\n",
        "    return print(f\"{round(area,2)} es el área de la circunferencia y {round(perimetro,2)} es su perimetro.\")"
      ]
    },
    {
      "cell_type": "markdown",
      "metadata": {
        "id": "hJ0t8CDBb_st"
      },
      "source": [
        "<strong>Ejemplo:</strong> Calcular el área y perimetro de una circunferencia con radio 10"
      ]
    },
    {
      "cell_type": "code",
      "source": [
        "Circunferencia(10)"
      ],
      "metadata": {
        "colab": {
          "base_uri": "https://localhost:8080/"
        },
        "id": "oHbqAT7Enfvz",
        "outputId": "02a6843c-0b86-4e97-ab68-0d2006beb229"
      },
      "execution_count": null,
      "outputs": [
        {
          "output_type": "stream",
          "name": "stdout",
          "text": [
            "314.16 es el área de la circunferencia y 62.83 es su perimetro.\n"
          ]
        }
      ]
    },
    {
      "cell_type": "markdown",
      "metadata": {
        "id": "MuFHh_3jb_st"
      },
      "source": [
        "- Crear una función  llamada “Login”, que recibe un nombre de usuario y una contraseña y devuelva Verdadero si el nombre de usuario es “usuario1” y la contraseña es “asdasd”. Además recibe el número de intentos que se ha intentado hacer login y si no se ha podido hacer login incremente este valor.\n"
      ]
    },
    {
      "cell_type": "code",
      "execution_count": 3,
      "metadata": {
        "id": "u7l8kwrPb_st"
      },
      "outputs": [],
      "source": [
        "def Login(usuario, contraseña, intentos):\n",
        "    if usuario == \"usuario1\" and contraseña == \"asdasd\":\n",
        "        return True, intentos\n",
        "    else:\n",
        "        intentos += 1 # Forma abreviada de excribir intentos=intentos+1\n",
        "        return False, intentos"
      ]
    },
    {
      "cell_type": "markdown",
      "metadata": {
        "id": "u5qVctuEb_st"
      },
      "source": [
        "<strong>Ejemplo:</strong> "
      ]
    },
    {
      "cell_type": "code",
      "source": [
        "Login(\"usuario3\",\"asdasd\",10)"
      ],
      "metadata": {
        "colab": {
          "base_uri": "https://localhost:8080/"
        },
        "id": "zQaHFS7ZocVN",
        "outputId": "950f4110-a3e1-4674-e283-7f71cb8b5777"
      },
      "execution_count": 10,
      "outputs": [
        {
          "output_type": "execute_result",
          "data": {
            "text/plain": [
              "(False, 11)"
            ]
          },
          "metadata": {},
          "execution_count": 10
        }
      ]
    },
    {
      "cell_type": "markdown",
      "metadata": {
        "id": "uZ5jtkkpb_su"
      },
      "source": [
        "-  Crear una función recursiva que permita calcular el factorial de un número. Realiza un programa principal donde se lea un entero y se muestre el resultado del factorial. Revise la lección de funciones.\n"
      ]
    },
    {
      "cell_type": "code",
      "execution_count": 15,
      "metadata": {
        "id": "R3ftlEhgb_su"
      },
      "outputs": [],
      "source": [
        "def factorial(n):\n",
        "    if n == 0:\n",
        "        return 1\n",
        "    else:\n",
        "        return n * factorial(n-1)\n"
      ]
    },
    {
      "cell_type": "markdown",
      "metadata": {
        "id": "-GMWobJFb_su"
      },
      "source": [
        "<strong>Ejemplo:</strong> Calcular el factorial de 3:"
      ]
    },
    {
      "cell_type": "code",
      "source": [
        "# Programa principal\n",
        "numero = int(input(\"Ingresa un número al que quiere calcularle el factorial: \"))\n",
        "resultado = factorial(numero)\n",
        "print(\"El factorial del\", numero, \"es:\", resultado)"
      ],
      "metadata": {
        "colab": {
          "base_uri": "https://localhost:8080/"
        },
        "id": "bNrGxV4aaUM_",
        "outputId": "72583732-7414-4cba-a89d-41a65a5fc497"
      },
      "execution_count": 16,
      "outputs": [
        {
          "output_type": "stream",
          "name": "stdout",
          "text": [
            "Ingresa un número al que quiere calcularle el factorial: 3\n",
            "El factorial del 3 es: 6\n"
          ]
        }
      ]
    },
    {
      "cell_type": "markdown",
      "metadata": {
        "id": "x9ULg63Qb_su"
      },
      "source": [
        " - Escribir dos funciones que permitan calcular:\n",
        "<ul>\n",
        "<li>La cantidad de segundos en un tiempo dado en horas, minutos y segundos.</li>\n",
        "<li>La cantidad de horas, minutos y segundos de un tiempo dado en segundos</li>\n",
        "</ul>"
      ]
    },
    {
      "cell_type": "code",
      "execution_count": 31,
      "metadata": {
        "id": "0mNd7pdSb_su"
      },
      "outputs": [],
      "source": [
        "def segundos(fecha):\n",
        "    return fecha.hour * 3600 + fecha.minute * 60 + fecha.second"
      ]
    },
    {
      "cell_type": "code",
      "source": [
        "def segundos_a_tiempo(total_segundos):\n",
        "    horas = total_segundos // 3600\n",
        "    minutos = (total_segundos % 3600) // 60\n",
        "    segundos = total_segundos % 60\n",
        "    return horas, minutos, segundos"
      ],
      "metadata": {
        "id": "bXWaOwS7erOm"
      },
      "execution_count": 39,
      "outputs": []
    },
    {
      "cell_type": "markdown",
      "metadata": {
        "id": "RYXtpjK1b_su"
      },
      "source": [
        "<strong>Ejemplo:</strong> "
      ]
    },
    {
      "cell_type": "code",
      "source": [
        "import datetime\n",
        "tiempo = datetime.time(2, 30, 15)\n",
        "resultado=segundos(tiempo)\n",
        "print(\"El tiempo\", tiempo, \"tiene:\", resultado,\"segundos\")"
      ],
      "metadata": {
        "colab": {
          "base_uri": "https://localhost:8080/"
        },
        "id": "1J9E1bWPcvjU",
        "outputId": "df28188d-54b6-48c2-bf6d-0909dfb128b0"
      },
      "execution_count": 36,
      "outputs": [
        {
          "output_type": "stream",
          "name": "stdout",
          "text": [
            "El tiempo 02:30:15 tiene: 9015 segundos\n"
          ]
        }
      ]
    },
    {
      "cell_type": "code",
      "source": [
        "segundos=28000\n",
        "Resultado=segundos_a_tiempo(segundos)\n",
        "print(segundos, \"segundos equivalen a:\\n\", Resultado[0],\"horas\\n\", Resultado[1],\"minutos\\n\", Resultado[2],\"segundos\")"
      ],
      "metadata": {
        "colab": {
          "base_uri": "https://localhost:8080/"
        },
        "id": "GZOVkEKFpKnK",
        "outputId": "8fe5079d-6bd5-45fc-88a4-5bc757d90d92"
      },
      "execution_count": 50,
      "outputs": [
        {
          "output_type": "stream",
          "name": "stdout",
          "text": [
            "28000 segundos equivalen a:\n",
            " 7 horas\n",
            " 46 minutos\n",
            " 40 segundos\n"
          ]
        }
      ]
    },
    {
      "cell_type": "markdown",
      "metadata": {
        "id": "PL4fzHLIb_sv"
      },
      "source": [
        "- Crea una función  que lea una tupla, invierta los valores de la tupla y regrese una nueva tupla invirtiendo los valores. Recuerde que las tuplas son inmutables."
      ]
    },
    {
      "cell_type": "code",
      "execution_count": 53,
      "metadata": {
        "id": "w8KZvxiLb_sv"
      },
      "outputs": [],
      "source": [
        "def invertir_tupla(tupla):\n",
        "    return tuple(reversed(tupla))"
      ]
    },
    {
      "cell_type": "markdown",
      "metadata": {
        "id": "nrkNQZiEb_sv"
      },
      "source": [
        "<strong>Ejemplo:</strong>\n"
      ]
    },
    {
      "cell_type": "code",
      "source": [
        "tupla = (11, 22, 33, 44, 55)\n",
        "invertida = invertir_tupla(tupla)\n",
        "print(\"Tupla original:\", tupla, \"\\nTupla invertida:\",invertida)"
      ],
      "metadata": {
        "colab": {
          "base_uri": "https://localhost:8080/"
        },
        "id": "pPPf5beGsMOs",
        "outputId": "7c205cfd-0209-4a6b-db96-4cad96548331"
      },
      "execution_count": 55,
      "outputs": [
        {
          "output_type": "stream",
          "name": "stdout",
          "text": [
            "Tupla original: (11, 22, 33, 44, 55) \n",
            "Tupla invertida: (55, 44, 33, 22, 11)\n"
          ]
        }
      ]
    },
    {
      "cell_type": "markdown",
      "metadata": {
        "id": "ZW0ikYvCb_sv"
      },
      "source": [
        "- Escriba una función que lea una lista y calcule la media geométrica de sus valores, usando funtools.reduce."
      ]
    },
    {
      "cell_type": "code",
      "execution_count": 56,
      "metadata": {
        "id": "LdvTnDuvb_sv"
      },
      "outputs": [],
      "source": [
        "import functools\n",
        "import math\n",
        "\n",
        "def media_geometrica(lista):\n",
        "    producto = functools.reduce(lambda x, y: x*y, lista)\n",
        "    return math.pow(producto, 1/len(lista))"
      ]
    },
    {
      "cell_type": "markdown",
      "metadata": {
        "id": "2QfrfecCb_sv"
      },
      "source": [
        "<strong>Ejemplo:</strong>"
      ]
    },
    {
      "cell_type": "code",
      "execution_count": 57,
      "metadata": {
        "id": "Pyeau1LRb_sw",
        "colab": {
          "base_uri": "https://localhost:8080/"
        },
        "outputId": "74cde688-c8c6-4e23-8c3f-72c193f547f1"
      },
      "outputs": [
        {
          "output_type": "stream",
          "name": "stdout",
          "text": [
            "La media es 4.8969597014570985\n"
          ]
        }
      ],
      "source": [
        "lista = [1, 4, 8, 8, 11]\n",
        "media = media_geometrica(lista)\n",
        "print(\"La media geométrica es\",media)"
      ]
    }
  ],
  "metadata": {
    "kernelspec": {
      "display_name": "Python 3",
      "language": "python",
      "name": "python3"
    },
    "language_info": {
      "codemirror_mode": {
        "name": "ipython",
        "version": 3
      },
      "file_extension": ".py",
      "mimetype": "text/x-python",
      "name": "python",
      "nbconvert_exporter": "python",
      "pygments_lexer": "ipython3",
      "version": "3.7.6"
    },
    "colab": {
      "provenance": [],
      "include_colab_link": true
    }
  },
  "nbformat": 4,
  "nbformat_minor": 0
}
